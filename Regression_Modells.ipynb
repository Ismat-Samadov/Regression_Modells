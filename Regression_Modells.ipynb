{
 "cells": [
  {
   "cell_type": "markdown",
   "id": "036fa694-6067-4f56-b099-0fd0155cbf92",
   "metadata": {},
   "source": [
    "# Step 1: Data Loading and Initial Inspection"
   ]
  },
  {
   "cell_type": "code",
   "execution_count": 3,
   "id": "f17d0e6d-5269-4f5e-8d9c-62bd9ae86c8d",
   "metadata": {},
   "outputs": [
    {
     "name": "stdout",
     "output_type": "stream",
     "text": [
      "       Country  Year      Status  Adult Mortality  infant deaths  Alcohol  \\\n",
      "0  Afghanistan  2015  Developing            263.0             62     0.01   \n",
      "1  Afghanistan  2014  Developing            271.0             64     0.01   \n",
      "2  Afghanistan  2013  Developing            268.0             66     0.01   \n",
      "3  Afghanistan  2012  Developing            272.0             69     0.01   \n",
      "4  Afghanistan  2011  Developing            275.0             71     0.01   \n",
      "\n",
      "   percentage expenditure  Hepatitis B  Measles    BMI   ...  \\\n",
      "0               71.279624         65.0      1154   19.1  ...   \n",
      "1               73.523582         62.0       492   18.6  ...   \n",
      "2               73.219243         64.0       430   18.1  ...   \n",
      "3               78.184215         67.0      2787   17.6  ...   \n",
      "4                7.097109         68.0      3013   17.2  ...   \n",
      "\n",
      "   Total expenditure  Diphtheria    HIV/AIDS         GDP  Population  \\\n",
      "0               8.16         65.0        0.1  584.259210  33736494.0   \n",
      "1               8.18         62.0        0.1  612.696514    327582.0   \n",
      "2               8.13         64.0        0.1  631.744976  31731688.0   \n",
      "3               8.52         67.0        0.1  669.959000   3696958.0   \n",
      "4               7.87         68.0        0.1   63.537231   2978599.0   \n",
      "\n",
      "    thinness  1-19 years   thinness 5-9 years  \\\n",
      "0                   17.2                 17.3   \n",
      "1                   17.5                 17.5   \n",
      "2                   17.7                 17.7   \n",
      "3                   17.9                 18.0   \n",
      "4                   18.2                 18.2   \n",
      "\n",
      "   Income composition of resources  Schooling  Life expectancy   \n",
      "0                            0.479       10.1              65.0  \n",
      "1                            0.476       10.0              59.9  \n",
      "2                            0.470        9.9              59.9  \n",
      "3                            0.463        9.8              59.5  \n",
      "4                            0.454        9.5              59.2  \n",
      "\n",
      "[5 rows x 22 columns]\n",
      "<class 'pandas.core.frame.DataFrame'>\n",
      "RangeIndex: 2938 entries, 0 to 2937\n",
      "Data columns (total 22 columns):\n",
      " #   Column                           Non-Null Count  Dtype  \n",
      "---  ------                           --------------  -----  \n",
      " 0   Country                          2938 non-null   object \n",
      " 1   Year                             2938 non-null   int64  \n",
      " 2   Status                           2938 non-null   object \n",
      " 3   Adult Mortality                  2928 non-null   float64\n",
      " 4   infant deaths                    2938 non-null   int64  \n",
      " 5   Alcohol                          2744 non-null   float64\n",
      " 6   percentage expenditure           2938 non-null   float64\n",
      " 7   Hepatitis B                      2385 non-null   float64\n",
      " 8   Measles                          2938 non-null   int64  \n",
      " 9    BMI                             2904 non-null   float64\n",
      " 10  under-five deaths                2938 non-null   int64  \n",
      " 11  Polio                            2919 non-null   float64\n",
      " 12  Total expenditure                2712 non-null   float64\n",
      " 13  Diphtheria                       2919 non-null   float64\n",
      " 14   HIV/AIDS                        2938 non-null   float64\n",
      " 15  GDP                              2490 non-null   float64\n",
      " 16  Population                       2286 non-null   float64\n",
      " 17   thinness  1-19 years            2904 non-null   float64\n",
      " 18   thinness 5-9 years              2904 non-null   float64\n",
      " 19  Income composition of resources  2771 non-null   float64\n",
      " 20  Schooling                        2775 non-null   float64\n",
      " 21  Life expectancy                  2928 non-null   float64\n",
      "dtypes: float64(16), int64(4), object(2)\n",
      "memory usage: 505.1+ KB\n",
      "None\n"
     ]
    }
   ],
   "source": [
    "import pandas as pd\n",
    "\n",
    "import warnings\n",
    "warnings.simplefilter(action='ignore', category=FutureWarning)\n",
    "\n",
    "\n",
    "life_expectancy_data = pd.read_csv('Life Expectancy Data.csv')\n",
    "\n",
    "print(life_expectancy_data.head())\n",
    "print(life_expectancy_data.info())"
   ]
  },
  {
   "cell_type": "markdown",
   "id": "c7967461-fdf1-46ec-824a-3df890fa14be",
   "metadata": {},
   "source": [
    "# Step 2: Pre-processing for Regression"
   ]
  },
  {
   "cell_type": "code",
   "execution_count": 6,
   "id": "51c0fd91-920c-4b09-8630-317a47088da0",
   "metadata": {},
   "outputs": [],
   "source": [
    "from sklearn.model_selection import train_test_split\n",
    "from sklearn.preprocessing import StandardScaler\n",
    "\n",
    "# Handling missing values by filling them with the mean of the column\n",
    "life_expectancy_data.fillna(life_expectancy_data.mean(), inplace=True)\n",
    "\n",
    "# Encoding categorical variables using one-hot encoding\n",
    "life_expectancy_data = pd.get_dummies(life_expectancy_data, drop_first=True)\n",
    "\n",
    "X = life_expectancy_data.drop(columns=['Life expectancy '])\n",
    "y = life_expectancy_data['Life expectancy ']\n",
    "\n",
    "scaler = StandardScaler()\n",
    "X_scaled = scaler.fit_transform(X)\n",
    "\n",
    "X_train, X_test, y_train, y_test = train_test_split(X_scaled, y, test_size=0.2, random_state=42)"
   ]
  },
  {
   "cell_type": "markdown",
   "id": "77099b16-9c48-479d-bb8d-7b88f765cb76",
   "metadata": {},
   "source": [
    "# Step 3: Model Implementation"
   ]
  },
  {
   "cell_type": "code",
   "execution_count": 8,
   "id": "71d23720-44cb-49ff-99f6-af7354a2c2ee",
   "metadata": {},
   "outputs": [
    {
     "name": "stdout",
     "output_type": "stream",
     "text": [
      "[LightGBM] [Info] Auto-choosing row-wise multi-threading, the overhead of testing was 0.000697 seconds.\n",
      "You can set `force_row_wise=true` to remove the overhead.\n",
      "And if memory is not enough, you can set `force_col_wise=true`.\n",
      "[LightGBM] [Info] Total Bins 3355\n",
      "[LightGBM] [Info] Number of data points in the train set: 2350, number of used features: 20\n",
      "[LightGBM] [Info] Start training from score 69.276978\n",
      "[LightGBM] [Info] Auto-choosing col-wise multi-threading, the overhead of testing was 0.000343 seconds.\n",
      "You can set `force_col_wise=true` to remove the overhead.\n",
      "[LightGBM] [Info] Total Bins 3355\n",
      "[LightGBM] [Info] Number of data points in the train set: 2350, number of used features: 20\n",
      "[LightGBM] [Info] Start training from score 69.276978\n",
      "[LightGBM] [Info] Auto-choosing col-wise multi-threading, the overhead of testing was 0.000383 seconds.\n",
      "You can set `force_col_wise=true` to remove the overhead.\n",
      "[LightGBM] [Info] Total Bins 3281\n",
      "[LightGBM] [Info] Number of data points in the train set: 1880, number of used features: 20\n",
      "[LightGBM] [Info] Start training from score 69.558856\n",
      "[LightGBM] [Info] Auto-choosing col-wise multi-threading, the overhead of testing was 0.000220 seconds.\n",
      "You can set `force_col_wise=true` to remove the overhead.\n",
      "[LightGBM] [Info] Total Bins 3274\n",
      "[LightGBM] [Info] Number of data points in the train set: 1880, number of used features: 20\n",
      "[LightGBM] [Info] Start training from score 69.312752\n",
      "[LightGBM] [Info] Auto-choosing col-wise multi-threading, the overhead of testing was 0.000236 seconds.\n",
      "You can set `force_col_wise=true` to remove the overhead.\n",
      "[LightGBM] [Info] Total Bins 3284\n",
      "[LightGBM] [Info] Number of data points in the train set: 1880, number of used features: 20\n",
      "[LightGBM] [Info] Start training from score 69.114295\n",
      "[LightGBM] [Info] Auto-choosing col-wise multi-threading, the overhead of testing was 0.000289 seconds.\n",
      "You can set `force_col_wise=true` to remove the overhead.\n",
      "[LightGBM] [Info] Total Bins 3275\n",
      "[LightGBM] [Info] Number of data points in the train set: 1880, number of used features: 20\n",
      "[LightGBM] [Info] Start training from score 69.214388\n",
      "[LightGBM] [Info] Auto-choosing col-wise multi-threading, the overhead of testing was 0.000251 seconds.\n",
      "You can set `force_col_wise=true` to remove the overhead.\n",
      "[LightGBM] [Info] Total Bins 3278\n",
      "[LightGBM] [Info] Number of data points in the train set: 1880, number of used features: 20\n",
      "[LightGBM] [Info] Start training from score 69.184601\n"
     ]
    }
   ],
   "source": [
    "from sklearn.linear_model import LinearRegression\n",
    "from sklearn.ensemble import RandomForestRegressor, StackingRegressor\n",
    "from sklearn.svm import SVR\n",
    "import xgboost as xgb\n",
    "import lightgbm as lgb\n",
    "import catboost as cb\n",
    "from sklearn.metrics import mean_squared_error, r2_score\n",
    "\n",
    "# Linear Regression\n",
    "lin_reg = LinearRegression()\n",
    "lin_reg.fit(X_train, y_train)\n",
    "lin_reg_pred = lin_reg.predict(X_test)\n",
    "\n",
    "# Random Forest\n",
    "rf_reg = RandomForestRegressor(random_state=42)\n",
    "rf_reg.fit(X_train, y_train)\n",
    "rf_pred = rf_reg.predict(X_test)\n",
    "\n",
    "# Support Vector Regressor\n",
    "svr = SVR()\n",
    "svr.fit(X_train, y_train)\n",
    "svr_pred = svr.predict(X_test)\n",
    "\n",
    "# XGBoost\n",
    "xgb_reg = xgb.XGBRegressor(random_state=42)\n",
    "xgb_reg.fit(X_train, y_train)\n",
    "xgb_pred = xgb_reg.predict(X_test)\n",
    "\n",
    "# LightGBM\n",
    "lgb_reg = lgb.LGBMRegressor(random_state=42)\n",
    "lgb_reg.fit(X_train, y_train)\n",
    "lgb_pred = lgb_reg.predict(X_test)\n",
    "\n",
    "# CatBoost\n",
    "cb_reg = cb.CatBoostRegressor(verbose=0, random_state=42)\n",
    "cb_reg.fit(X_train, y_train)\n",
    "cb_pred = cb_reg.predict(X_test)\n",
    "\n",
    "# Stacking Regressor\n",
    "estimators = [\n",
    "    ('rf', RandomForestRegressor(random_state=42)),\n",
    "    ('svr', SVR()),\n",
    "    ('xgb', xgb.XGBRegressor(random_state=42)),\n",
    "    ('lgb', lgb.LGBMRegressor(random_state=42)),\n",
    "    ('cb', cb.CatBoostRegressor(verbose=0, random_state=42))\n",
    "]\n",
    "stacking_reg = StackingRegressor(estimators=estimators, final_estimator=LinearRegression())\n",
    "stacking_reg.fit(X_train, y_train)\n",
    "stacking_pred = stacking_reg.predict(X_test)"
   ]
  },
  {
   "cell_type": "markdown",
   "id": "ce499b2e-3778-4157-be73-df644e64f552",
   "metadata": {},
   "source": [
    "# Step 4: Optimization with Optuna"
   ]
  },
  {
   "cell_type": "code",
   "execution_count": 11,
   "id": "2fd91c07-9251-44b9-a259-534877e614b1",
   "metadata": {},
   "outputs": [
    {
     "name": "stderr",
     "output_type": "stream",
     "text": [
      "[I 2024-05-22 05:57:52,334] A new study created in memory with name: no-name-e1239361-f903-4732-9578-b3487186a7f8\n",
      "[I 2024-05-22 05:59:05,404] Trial 0 finished with value: 2.6014655778722346 and parameters: {'n_estimators': 954, 'max_depth': 30}. Best is trial 0 with value: 2.6014655778722346.\n",
      "[I 2024-05-22 05:59:54,464] Trial 1 finished with value: 2.588581231793036 and parameters: {'n_estimators': 515, 'max_depth': 32}. Best is trial 1 with value: 2.588581231793036.\n",
      "[I 2024-05-22 06:00:59,490] Trial 2 finished with value: 2.601491519173984 and parameters: {'n_estimators': 878, 'max_depth': 25}. Best is trial 1 with value: 2.588581231793036.\n",
      "[I 2024-05-22 06:01:11,628] Trial 3 finished with value: 2.814335482191458 and parameters: {'n_estimators': 225, 'max_depth': 12}. Best is trial 1 with value: 2.588581231793036.\n",
      "[I 2024-05-22 06:01:42,760] Trial 4 finished with value: 2.5898081281092606 and parameters: {'n_estimators': 451, 'max_depth': 20}. Best is trial 1 with value: 2.588581231793036.\n",
      "[I 2024-05-22 06:01:44,557] Trial 5 finished with value: 18.765693491476355 and parameters: {'n_estimators': 229, 'max_depth': 2}. Best is trial 1 with value: 2.588581231793036.\n",
      "[I 2024-05-22 06:02:31,326] Trial 6 finished with value: 2.683511579493842 and parameters: {'n_estimators': 787, 'max_depth': 14}. Best is trial 1 with value: 2.588581231793036.\n",
      "[I 2024-05-22 06:02:37,713] Trial 7 finished with value: 2.8424205419748048 and parameters: {'n_estimators': 113, 'max_depth': 12}. Best is trial 1 with value: 2.588581231793036.\n",
      "[I 2024-05-22 06:03:00,657] Trial 8 finished with value: 3.455334045678206 and parameters: {'n_estimators': 654, 'max_depth': 8}. Best is trial 1 with value: 2.588581231793036.\n",
      "[I 2024-05-22 06:03:29,744] Trial 9 finished with value: 2.642577273684651 and parameters: {'n_estimators': 444, 'max_depth': 16}. Best is trial 1 with value: 2.588581231793036.\n",
      "[I 2024-05-22 06:04:10,650] Trial 10 finished with value: 2.5966121251220358 and parameters: {'n_estimators': 581, 'max_depth': 31}. Best is trial 1 with value: 2.588581231793036.\n",
      "[I 2024-05-22 06:04:39,272] Trial 11 finished with value: 2.609291933291611 and parameters: {'n_estimators': 425, 'max_depth': 23}. Best is trial 1 with value: 2.588581231793036.\n",
      "[I 2024-05-22 06:05:07,126] Trial 12 finished with value: 2.6093717249715653 and parameters: {'n_estimators': 419, 'max_depth': 22}. Best is trial 1 with value: 2.588581231793036.\n",
      "[I 2024-05-22 06:05:54,414] Trial 13 finished with value: 2.591385956736002 and parameters: {'n_estimators': 700, 'max_depth': 27}. Best is trial 1 with value: 2.588581231793036.\n",
      "[I 2024-05-22 06:06:26,259] Trial 14 finished with value: 2.586612294268553 and parameters: {'n_estimators': 484, 'max_depth': 20}. Best is trial 14 with value: 2.586612294268553.\n",
      "[I 2024-05-22 06:07:01,214] Trial 15 finished with value: 2.606355497937878 and parameters: {'n_estimators': 533, 'max_depth': 19}. Best is trial 14 with value: 2.586612294268553.\n",
      "[I 2024-05-22 06:07:23,392] Trial 16 finished with value: 2.613971559069964 and parameters: {'n_estimators': 323, 'max_depth': 28}. Best is trial 14 with value: 2.586612294268553.\n",
      "[I 2024-05-22 06:07:37,862] Trial 17 finished with value: 4.632685926324245 and parameters: {'n_estimators': 587, 'max_depth': 6}. Best is trial 14 with value: 2.586612294268553.\n",
      "[I 2024-05-22 06:08:59,022] Trial 18 finished with value: 2.5955015767532195 and parameters: {'n_estimators': 706, 'max_depth': 32}. Best is trial 14 with value: 2.586612294268553.\n",
      "[I 2024-05-22 06:09:40,225] Trial 19 finished with value: 2.615167848551546 and parameters: {'n_estimators': 320, 'max_depth': 26}. Best is trial 14 with value: 2.586612294268553.\n"
     ]
    },
    {
     "name": "stdout",
     "output_type": "stream",
     "text": [
      "Best parameters for Random Forest: {'n_estimators': 484, 'max_depth': 20}\n"
     ]
    }
   ],
   "source": [
    "import optuna\n",
    "\n",
    "def optimize_rf_reg(trial):\n",
    "    n_estimators = trial.suggest_int('n_estimators', 100, 1000)\n",
    "    max_depth = trial.suggest_int('max_depth', 2, 32)\n",
    "    rf_reg = RandomForestRegressor(n_estimators=n_estimators, max_depth=max_depth, random_state=42)\n",
    "    rf_reg.fit(X_train, y_train)\n",
    "    preds = rf_reg.predict(X_test)\n",
    "    return mean_squared_error(y_test, preds)\n",
    "\n",
    "rf_reg_study = optuna.create_study(direction='minimize')\n",
    "rf_reg_study.optimize(optimize_rf_reg, n_trials=20)\n",
    "best_rf_reg_params = rf_reg_study.best_params\n",
    "print(f\"Best parameters for Random Forest: {best_rf_reg_params}\")"
   ]
  },
  {
   "cell_type": "code",
   "execution_count": 17,
   "id": "e46fb9e0-a516-4a2c-9f20-e0fb71dcddd1",
   "metadata": {},
   "outputs": [
    {
     "name": "stdout",
     "output_type": "stream",
     "text": [
      "Best parameters for LightGBM: {'lambda_l1': 8.008182989057387e-05, 'lambda_l2': 3.4368614248651865e-06, 'num_leaves': 221, 'feature_fraction': 0.5844642792189921, 'bagging_fraction': 0.9950028734475409, 'bagging_freq': 6, 'min_child_samples': 5}\n",
      "[LightGBM] [Info] Auto-choosing col-wise multi-threading, the overhead of testing was 0.003285 seconds.\n",
      "You can set `force_col_wise=true` to remove the overhead.\n",
      "[LightGBM] [Info] Total Bins 3901\n",
      "[LightGBM] [Info] Number of data points in the train set: 2350, number of used features: 202\n",
      "[LightGBM] [Info] Start training from score 69.276978\n",
      "Optimized LightGBM RMSE: 1.4974414529782945\n",
      "Optimized LightGBM R2 Score: 0.9741175767523185\n"
     ]
    }
   ],
   "source": [
    "import optuna\n",
    "import lightgbm as lgb\n",
    "from optuna.integration import LightGBMPruningCallback\n",
    "\n",
    "def objective(trial):\n",
    "    param = {\n",
    "        'objective': 'regression',\n",
    "        'metric': 'rmse',  \n",
    "        'verbosity': -1,  \n",
    "        'verbose': -1,\n",
    "        'boosting_type': 'gbdt',\n",
    "        'lambda_l1': trial.suggest_loguniform('lambda_l1', 1e-8, 10.0),\n",
    "        'lambda_l2': trial.suggest_loguniform('lambda_l2', 1e-8, 10.0),\n",
    "        'num_leaves': trial.suggest_int('num_leaves', 2, 256),\n",
    "        'feature_fraction': trial.suggest_uniform('feature_fraction', 0.4, 1.0),\n",
    "        'bagging_fraction': trial.suggest_uniform('bagging_fraction', 0.4, 1.0),\n",
    "        'bagging_freq': trial.suggest_int('bagging_freq', 1, 7),\n",
    "        'min_child_samples': trial.suggest_int('min_child_samples', 5, 100)\n",
    "    }\n",
    "\n",
    "    dtrain = lgb.Dataset(X_train, label=y_train)\n",
    "    dvalid = lgb.Dataset(X_test, label=y_test)\n",
    "\n",
    "    pruning_callback = LightGBMPruningCallback(trial, 'rmse')\n",
    "\n",
    "    gbm = lgb.train(param, dtrain, valid_sets=[dvalid], callbacks=[pruning_callback])\n",
    "\n",
    "    preds = gbm.predict(X_test, num_iteration=gbm.best_iteration)\n",
    "    error = mean_squared_error(y_test, preds, squared=False)  # Calculate RMSE\n",
    "    return error\n",
    "\n",
    "optuna.logging.set_verbosity(optuna.logging.WARNING)  # Suppress Optuna logs\n",
    "\n",
    "study = optuna.create_study(direction='minimize')\n",
    "study.optimize(objective, n_trials=50)\n",
    "\n",
    "best_params = study.best_params\n",
    "print(f\"Best parameters for LightGBM: {best_params}\")\n",
    "\n",
    "final_gbm = lgb.train(best_params, lgb.Dataset(X_train, label=y_train), valid_sets=[lgb.Dataset(X_test, label=y_test)])\n",
    "final_preds = final_gbm.predict(X_test)\n",
    "\n",
    "final_rmse = mean_squared_error(y_test, final_preds, squared=False)\n",
    "final_r2 = r2_score(y_test, final_preds)\n",
    "\n",
    "print(f\"Optimized LightGBM RMSE: {final_rmse}\")\n",
    "print(f\"Optimized LightGBM R2 Score: {final_r2}\")"
   ]
  },
  {
   "cell_type": "markdown",
   "id": "71b69bf7-20f2-41aa-a84f-0e5b3eaafa08",
   "metadata": {},
   "source": [
    "# Step 5: Evaluation and Results Compilation"
   ]
  },
  {
   "cell_type": "code",
   "execution_count": 12,
   "id": "af427813-91ee-4a99-aadb-ce5e7719768a",
   "metadata": {},
   "outputs": [
    {
     "data": {
      "text/html": [
       "<div>\n",
       "<style scoped>\n",
       "    .dataframe tbody tr th:only-of-type {\n",
       "        vertical-align: middle;\n",
       "    }\n",
       "\n",
       "    .dataframe tbody tr th {\n",
       "        vertical-align: top;\n",
       "    }\n",
       "\n",
       "    .dataframe thead th {\n",
       "        text-align: right;\n",
       "    }\n",
       "</style>\n",
       "<table border=\"1\" class=\"dataframe\">\n",
       "  <thead>\n",
       "    <tr style=\"text-align: right;\">\n",
       "      <th></th>\n",
       "      <th>Model</th>\n",
       "      <th>Mean Squared Error</th>\n",
       "      <th>R2 Score</th>\n",
       "    </tr>\n",
       "  </thead>\n",
       "  <tbody>\n",
       "    <tr>\n",
       "      <th>0</th>\n",
       "      <td>Linear Regression</td>\n",
       "      <td>1.209545e+27</td>\n",
       "      <td>-1.396134e+25</td>\n",
       "    </tr>\n",
       "    <tr>\n",
       "      <th>1</th>\n",
       "      <td>Random Forest</td>\n",
       "      <td>2.630583e+00</td>\n",
       "      <td>9.696361e-01</td>\n",
       "    </tr>\n",
       "    <tr>\n",
       "      <th>2</th>\n",
       "      <td>SVR</td>\n",
       "      <td>6.595472e+00</td>\n",
       "      <td>9.238708e-01</td>\n",
       "    </tr>\n",
       "    <tr>\n",
       "      <th>3</th>\n",
       "      <td>XGBoost</td>\n",
       "      <td>3.016619e+00</td>\n",
       "      <td>9.651802e-01</td>\n",
       "    </tr>\n",
       "    <tr>\n",
       "      <th>4</th>\n",
       "      <td>LightGBM</td>\n",
       "      <td>2.844672e+00</td>\n",
       "      <td>9.671650e-01</td>\n",
       "    </tr>\n",
       "    <tr>\n",
       "      <th>5</th>\n",
       "      <td>CatBoost</td>\n",
       "      <td>2.623705e+00</td>\n",
       "      <td>9.697155e-01</td>\n",
       "    </tr>\n",
       "    <tr>\n",
       "      <th>6</th>\n",
       "      <td>StackingRegressor</td>\n",
       "      <td>2.429438e+00</td>\n",
       "      <td>9.719579e-01</td>\n",
       "    </tr>\n",
       "  </tbody>\n",
       "</table>\n",
       "</div>"
      ],
      "text/plain": [
       "               Model  Mean Squared Error      R2 Score\n",
       "0  Linear Regression        1.209545e+27 -1.396134e+25\n",
       "1      Random Forest        2.630583e+00  9.696361e-01\n",
       "2                SVR        6.595472e+00  9.238708e-01\n",
       "3            XGBoost        3.016619e+00  9.651802e-01\n",
       "4           LightGBM        2.844672e+00  9.671650e-01\n",
       "5           CatBoost        2.623705e+00  9.697155e-01\n",
       "6  StackingRegressor        2.429438e+00  9.719579e-01"
      ]
     },
     "execution_count": 12,
     "metadata": {},
     "output_type": "execute_result"
    }
   ],
   "source": [
    "results = pd.DataFrame({\n",
    "    'Model': ['Linear Regression', 'Random Forest', 'SVR', 'XGBoost', 'LightGBM', 'CatBoost', 'StackingRegressor'],\n",
    "    'Mean Squared Error': [\n",
    "        mean_squared_error(y_test, lin_reg_pred),\n",
    "        mean_squared_error(y_test, rf_pred),\n",
    "        mean_squared_error(y_test, svr_pred),\n",
    "        mean_squared_error(y_test, xgb_pred),\n",
    "        mean_squared_error(y_test, lgb_pred),\n",
    "        mean_squared_error(y_test, cb_pred),\n",
    "        mean_squared_error(y_test, stacking_pred)\n",
    "    ],\n",
    "    'R2 Score': [\n",
    "        r2_score(y_test, lin_reg_pred),\n",
    "        r2_score(y_test, rf_pred),\n",
    "        r2_score(y_test, svr_pred),\n",
    "        r2_score(y_test, xgb_pred),\n",
    "        r2_score(y_test, lgb_pred),\n",
    "        r2_score(y_test, cb_pred),\n",
    "        r2_score(y_test, stacking_pred)\n",
    "    ]\n",
    "})\n",
    "\n",
    "results"
   ]
  },
  {
   "cell_type": "markdown",
   "id": "2cf5b35c-daa7-41ba-bd60-28615f4e5a7b",
   "metadata": {},
   "source": [
    "# Step 6: Univariate Analysis of Best Model"
   ]
  },
  {
   "cell_type": "code",
   "execution_count": 20,
   "id": "ea560e10-f351-4dd2-a031-fc44015ada2e",
   "metadata": {},
   "outputs": [
    {
     "name": "stdout",
     "output_type": "stream",
     "text": [
      "[LightGBM] [Warning] feature_fraction is set=0.5844642792189921, colsample_bytree=1.0 will be ignored. Current value: feature_fraction=0.5844642792189921\n",
      "[LightGBM] [Warning] lambda_l1 is set=8.008182989057387e-05, reg_alpha=0.0 will be ignored. Current value: lambda_l1=8.008182989057387e-05\n",
      "[LightGBM] [Warning] lambda_l2 is set=3.4368614248651865e-06, reg_lambda=0.0 will be ignored. Current value: lambda_l2=3.4368614248651865e-06\n",
      "[LightGBM] [Warning] bagging_fraction is set=0.9950028734475409, subsample=1.0 will be ignored. Current value: bagging_fraction=0.9950028734475409\n",
      "[LightGBM] [Warning] bagging_freq is set=6, subsample_freq=0 will be ignored. Current value: bagging_freq=6\n",
      "[LightGBM] [Warning] feature_fraction is set=0.5844642792189921, colsample_bytree=1.0 will be ignored. Current value: feature_fraction=0.5844642792189921\n",
      "[LightGBM] [Warning] lambda_l1 is set=8.008182989057387e-05, reg_alpha=0.0 will be ignored. Current value: lambda_l1=8.008182989057387e-05\n",
      "[LightGBM] [Warning] lambda_l2 is set=3.4368614248651865e-06, reg_lambda=0.0 will be ignored. Current value: lambda_l2=3.4368614248651865e-06\n",
      "[LightGBM] [Warning] bagging_fraction is set=0.9950028734475409, subsample=1.0 will be ignored. Current value: bagging_fraction=0.9950028734475409\n",
      "[LightGBM] [Warning] bagging_freq is set=6, subsample_freq=0 will be ignored. Current value: bagging_freq=6\n",
      "[LightGBM] [Info] Auto-choosing col-wise multi-threading, the overhead of testing was 0.001706 seconds.\n",
      "You can set `force_col_wise=true` to remove the overhead.\n",
      "[LightGBM] [Info] Total Bins 3901\n",
      "[LightGBM] [Info] Number of data points in the train set: 2350, number of used features: 202\n",
      "[LightGBM] [Info] Start training from score 69.276978\n",
      "[LightGBM] [Warning] feature_fraction is set=0.5844642792189921, colsample_bytree=1.0 will be ignored. Current value: feature_fraction=0.5844642792189921\n",
      "[LightGBM] [Warning] lambda_l1 is set=8.008182989057387e-05, reg_alpha=0.0 will be ignored. Current value: lambda_l1=8.008182989057387e-05\n",
      "[LightGBM] [Warning] lambda_l2 is set=3.4368614248651865e-06, reg_lambda=0.0 will be ignored. Current value: lambda_l2=3.4368614248651865e-06\n",
      "[LightGBM] [Warning] bagging_fraction is set=0.9950028734475409, subsample=1.0 will be ignored. Current value: bagging_fraction=0.9950028734475409\n",
      "[LightGBM] [Warning] bagging_freq is set=6, subsample_freq=0 will be ignored. Current value: bagging_freq=6\n"
     ]
    },
    {
     "data": {
      "image/png": "[encoded data removed]",
      "text/plain": [
       "<Figure size 1200x800 with 1 Axes>"
      ]
     },
     "metadata": {},
     "output_type": "display_data"
    }
   ],
   "source": [
    "import seaborn as sns\n",
    "import matplotlib.pyplot as plt\n",
    "\n",
    "best_lgb_reg = lgb.LGBMRegressor(**best_params, random_state=42)\n",
    "best_lgb_reg.fit(X_train, y_train)\n",
    "best_lgb_reg_pred = best_lgb_reg.predict(X_test)\n",
    "\n",
    "feature_importances = pd.Series(best_lgb_reg.feature_importances_, index=X.columns)\n",
    "\n",
    "top_features = feature_importances.nlargest(10)\n",
    "\n",
    "plt.figure(figsize=(12, 8))\n",
    "sns.barplot(x=top_features, y=top_features.index)\n",
    "plt.title('Top 10 Feature Importances of the Best LightGBM Model')\n",
    "plt.xlabel('Importance Score')\n",
    "plt.ylabel('Feature')\n",
    "plt.tight_layout()\n",
    "plt.show()"
   ]
  },
  {
   "cell_type": "code",
   "execution_count": null,
   "id": "661e2909-327f-4a4f-996e-3e804b5832db",
   "metadata": {},
   "outputs": [],
   "source": []
  },
  {
   "cell_type": "code",
   "execution_count": null,
   "id": "785e00df-88c9-4393-a5a1-6f3b79588413",
   "metadata": {},
   "outputs": [],
   "source": []
  },
  {
   "cell_type": "code",
   "execution_count": null,
   "id": "f9df20e4-ed88-4427-a1c4-d4ef224a8d6c",
   "metadata": {},
   "outputs": [],
   "source": []
  },
  {
   "cell_type": "code",
   "execution_count": null,
   "id": "cdaae3a1-c08b-4c90-864a-d65f7b3dfdad",
   "metadata": {},
   "outputs": [],
   "source": []
  },
  {
   "cell_type": "code",
   "execution_count": null,
   "id": "19671b75-1a0a-46a9-aaca-89475adfc0f6",
   "metadata": {},
   "outputs": [],
   "source": []
  },
  {
   "cell_type": "code",
   "execution_count": 21,
   "id": "92671ec5-cf22-455c-a249-9d20be73266d",
   "metadata": {},
   "outputs": [
    {
     "name": "stdout",
     "output_type": "stream",
     "text": [
      "requirements.txt file created.\n"
     ]
    }
   ],
   "source": [
    "import subprocess\n",
    "installed_packages = subprocess.check_output(['pip', 'freeze']).decode('utf-8')\n",
    "with open('requirements.txt', 'w') as f:\n",
    "    f.write(installed_packages)\n",
    "\n",
    "print(\"requirements.txt file created.\")"
   ]
  }
 ],
 "metadata": {
  "kernelspec": {
   "display_name": "Python 3 (ipykernel)",
   "language": "python",
   "name": "python3"
  },
  "language_info": {
   "codemirror_mode": {
    "name": "ipython",
    "version": 3
   },
   "file_extension": ".py",
   "mimetype": "text/x-python",
   "name": "python",
   "nbconvert_exporter": "python",
   "pygments_lexer": "ipython3",
   "version": "3.10.9"
  }
 },
 "nbformat": 4,
 "nbformat_minor": 5
}
